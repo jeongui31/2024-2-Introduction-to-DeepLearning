{
 "cells": [
  {
   "cell_type": "markdown",
   "metadata": {},
   "source": [
    "[모델 Softmax 회귀 모델]\n",
    "1. 절단 정규 분포 (tf.truncated_normal)로 초기화\n",
    "2. 손실 함수 : Sparse Softmax Cross-Entropy\n",
    "3. 옵티마이저 : Gradient Descent Optimizer (learning rate=0.5)\n",
    "4. 학습 epoch=1000\n",
    "- 학습 데이터 전체를 사용해 한 번에 업데이트하는 GD방식 채택"
   ]
  },
  {
   "cell_type": "code",
   "execution_count": 44,
   "metadata": {},
   "outputs": [],
   "source": [
    "import numpy as np\n",
    "import tensorflow as tf\n",
    "from sklearn.model_selection import train_test_split\n",
    "from sklearn.preprocessing import StandardScaler"
   ]
  },
  {
   "cell_type": "code",
   "execution_count": 45,
   "metadata": {},
   "outputs": [],
   "source": [
    "# Data\n",
    "def load_csv(file_path):\n",
    "\n",
    "    # CSV 파일 로드\n",
    "    data = np.loadtxt(file_path, delimiter=',', skiprows=1)\n",
    "    \n",
    "    # 입력 변수와 목표 변수 분리 ('fetal_health'를 목표 변수로 설정)\n",
    "    x_data = data[:, :-1]  # 마지막 열 제외 (입력 변수)\n",
    "    y_data = data[:, -1].astype(int)  # 마지막 열 (목표 변수)\n",
    "    \n",
    "    # 목표 변수를 one-hot 인코딩으로 변환\n",
    "    #with tf.Session() as sess:\n",
    "    #    y_data = sess.run(tf.one_hot(y_data - 1, depth=3))\n",
    "    \n",
    "    y_data = y_data - 1\n",
    "\n",
    "    return x_data, y_data\n",
    "\n",
    "def split_data(x_data, y_data):\n",
    "    # 첫 200개의 데이터를 테스트 데이터로 사용\n",
    "    x_test = x_data[:200]\n",
    "    y_test = y_data[:200]\n",
    "    \n",
    "    # 나머지 데이터를 학습 및 검증 데이터로 사용\n",
    "    x_rest = x_data[200:]\n",
    "    y_rest = y_data[200:]\n",
    "    \n",
    "    # 학습 데이터와 검증 데이터로 분할 예시 (전체의 약 12.5%를 검증 데이터로 사용)\n",
    "    x_train, x_val, y_train, y_val = train_test_split(x_rest, y_rest, test_size=0.125, random_state=42)\n",
    "\n",
    "    # 표준화 (스케일링)\n",
    "    sc = StandardScaler()\n",
    "    x_train = sc.fit_transform(x_train)\n",
    "    x_val = sc.transform(x_val)\n",
    "    x_test = sc.transform(x_test)\n",
    "    \n",
    "    return x_train, x_val, x_test, y_train, y_val, y_test"
   ]
  },
  {
   "cell_type": "code",
   "execution_count": 46,
   "metadata": {},
   "outputs": [],
   "source": [
    "x_data, y_data = load_csv('fetal_health.csv')\n",
    "x_train, x_val, x_test, y_train, y_val, y_test = split_data(x_data, y_data)"
   ]
  },
  {
   "cell_type": "code",
   "execution_count": 47,
   "metadata": {},
   "outputs": [],
   "source": [
    "x = tf.placeholder(tf.float32, shape=[None, x_train.shape[1]])\n",
    "y = tf.placeholder(tf.int64, shape=[None])"
   ]
  },
  {
   "cell_type": "code",
   "execution_count": 48,
   "metadata": {},
   "outputs": [],
   "source": [
    "# Softmax 회귀 모델 정의\n",
    "W = tf.Variable(tf.truncated_normal([x_train.shape[1], 3]))\n",
    "b = tf.Variable(tf.zeros([3]))\n",
    "logits = tf.matmul(x, W) + b\n",
    "y_pred = tf.nn.softmax(logits)"
   ]
  },
  {
   "cell_type": "code",
   "execution_count": 49,
   "metadata": {},
   "outputs": [],
   "source": [
    "# 손실 함수 (sparse_softmax_cross_entropy_with_logits 사용)\n",
    "loss = tf.reduce_mean(tf.nn.sparse_softmax_cross_entropy_with_logits(labels=y, logits=logits))\n",
    "\n",
    "# 옵티마이저 정의 (Gradient Descent Optimizer 사용)\n",
    "train_step = tf.train.GradientDescentOptimizer(0.5).minimize(loss)"
   ]
  },
  {
   "cell_type": "code",
   "execution_count": 50,
   "metadata": {},
   "outputs": [],
   "source": [
    "sess = tf.Session()\n",
    "sess.run(tf.global_variables_initializer())"
   ]
  },
  {
   "cell_type": "code",
   "execution_count": 51,
   "metadata": {},
   "outputs": [],
   "source": [
    "for i in range(1000):\n",
    "    sess.run(train_step, feed_dict={x: x_train, y: y_train})"
   ]
  },
  {
   "cell_type": "code",
   "execution_count": 52,
   "metadata": {},
   "outputs": [
    {
     "name": "stdout",
     "output_type": "stream",
     "text": [
      "정확도(Accuracy): 0.845000\n"
     ]
    }
   ],
   "source": [
    "correct_prediction = tf.equal(tf.argmax(y_pred,1), y)\n",
    "accuracy = tf.reduce_mean(tf.cast(correct_prediction, tf.float32))\n",
    "print(\"정확도(Accuracy): %f\" % sess.run(accuracy, feed_dict={x: x_test, y: y_test}))"
   ]
  },
  {
   "cell_type": "code",
   "execution_count": 53,
   "metadata": {},
   "outputs": [],
   "source": [
    "sess.close()"
   ]
  }
 ],
 "metadata": {
  "kernelspec": {
   "display_name": "intro-DL",
   "language": "python",
   "name": "python3"
  },
  "language_info": {
   "codemirror_mode": {
    "name": "ipython",
    "version": 3
   },
   "file_extension": ".py",
   "mimetype": "text/x-python",
   "name": "python",
   "nbconvert_exporter": "python",
   "pygments_lexer": "ipython3",
   "version": "3.6.5"
  }
 },
 "nbformat": 4,
 "nbformat_minor": 2
}
