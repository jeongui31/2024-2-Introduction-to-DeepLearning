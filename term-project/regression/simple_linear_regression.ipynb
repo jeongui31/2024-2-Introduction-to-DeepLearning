{
 "cells": [
  {
   "cell_type": "markdown",
   "metadata": {},
   "source": [
    "[모델 y=Wx+b]\n",
    "1. 초기값 설정 : 가우시안 분포(정규분포)\n",
    "2. 손실함수 : MSE\n",
    "3. 옵티마이저 : Gradient descent (learning rate=0.01)\n",
    "4. 학습 epoch = 500"
   ]
  },
  {
   "cell_type": "code",
   "execution_count": 441,
   "metadata": {},
   "outputs": [],
   "source": [
    "import tensorflow as tf\n",
    "import numpy as np\n",
    "from sklearn.model_selection import train_test_split\n",
    "from sklearn.preprocessing import StandardScaler"
   ]
  },
  {
   "cell_type": "code",
   "execution_count": 442,
   "metadata": {},
   "outputs": [],
   "source": [
    "def load_csv(file_path):\n",
    "\n",
    "    # CSV 파일 로드 (첫 번째 행을 건너뜀, 앞에서부터 8개의 열만 불러옴)\n",
    "    data = np.genfromtxt(file_path, delimiter=',', skip_header=1, usecols=range(8))\n",
    "    \n",
    "    # 'HAEMOGLOBINS'를 목표 변수로 설정 (두 번째 열)\n",
    "    x_data = np.delete(data, 1, axis=1)  # 두 번째 열 제거 (입력 변수)\n",
    "    y_data = data[:, 1].reshape(-1, 1)  # 두 번째 열이 목표 변수\n",
    "    \n",
    "    return x_data, y_data\n",
    "\n",
    "def split_data(x_data, y_data):\n",
    "    # 첫 400개의 데이터를 테스트 데이터로 사용\n",
    "    x_test = x_data[:400]\n",
    "    y_test = y_data[:400]\n",
    "    \n",
    "    # 나머지 데이터를 학습 및 검증 데이터로 사용\n",
    "    x_rest = x_data[400:]\n",
    "    y_rest = y_data[400:]\n",
    "    \n",
    "    # 학습 데이터와 검증 데이터로 분할 예시 (전체의 약 12.5%를 검증 데이터로 사용)\n",
    "    x_train, x_val, y_train, y_val = train_test_split(x_rest, y_rest, test_size=0.125, random_state=42)\n",
    "\n",
    "    # 표준화 (스케일링)\n",
    "    sc = StandardScaler()\n",
    "    x_train = sc.fit_transform(x_train)\n",
    "    x_val = sc.transform(x_val)\n",
    "    x_test = sc.transform(x_test)\n",
    "    \n",
    "    return x_train, x_val, x_test, y_train, y_val, y_test"
   ]
  },
  {
   "cell_type": "code",
   "execution_count": 443,
   "metadata": {},
   "outputs": [],
   "source": [
    "x_data, y_data = load_csv('data-ori.csv')\n",
    "x_train, x_val, x_test, y_train, y_val, y_test = split_data(x_data, y_data)"
   ]
  },
  {
   "cell_type": "code",
   "execution_count": 444,
   "metadata": {},
   "outputs": [],
   "source": [
    "W = tf.Variable(tf.random_normal(shape=[x_train.shape[1], 1]), name=\"W\")\n",
    "b = tf.Variable(tf.random_normal(shape=[1]), name=\"b\")\n",
    "x = tf.placeholder(tf.float32, shape=[None, x_train.shape[1]], name=\"x\")\n",
    "y = tf.placeholder(tf.float32, shape=[None, 1], name=\"y\")"
   ]
  },
  {
   "cell_type": "code",
   "execution_count": 445,
   "metadata": {},
   "outputs": [],
   "source": [
    "# 선형회귀 모델(Wx + b)을 정의\n",
    "linear_model = tf.matmul(x, W) +b"
   ]
  },
  {
   "cell_type": "code",
   "execution_count": 446,
   "metadata": {},
   "outputs": [],
   "source": [
    "# 손실 함수: MSE (평균 제곱 오차)\n",
    "loss = tf.reduce_mean(tf.square(linear_model - y))"
   ]
  },
  {
   "cell_type": "code",
   "execution_count": 447,
   "metadata": {},
   "outputs": [],
   "source": [
    "# 최적화: 경사하강법\n",
    "optimizer = tf.train.GradientDescentOptimizer(learning_rate=0.01)\n",
    "train_step = optimizer.minimize(loss)"
   ]
  },
  {
   "cell_type": "code",
   "execution_count": 448,
   "metadata": {},
   "outputs": [
    {
     "name": "stdout",
     "output_type": "stream",
     "text": [
      "Iteration 0, Current Loss: 164.35874938964844\n",
      "Iteration 50, Current Loss: 21.069740295410156\n",
      "Iteration 100, Current Loss: 2.8401577472686768\n",
      "Iteration 150, Current Loss: 0.42068588733673096\n",
      "Iteration 200, Current Loss: 0.09643075615167618\n",
      "Iteration 250, Current Loss: 0.052241917699575424\n",
      "Iteration 300, Current Loss: 0.0458984300494194\n",
      "Iteration 350, Current Loss: 0.04478941485285759\n",
      "Iteration 400, Current Loss: 0.044442299753427505\n",
      "Iteration 450, Current Loss: 0.04421931877732277\n",
      "차이 합: 15.488026237487794\n"
     ]
    }
   ],
   "source": [
    "with tf.Session() as sess:\n",
    "    sess.run(tf.global_variables_initializer())\n",
    "\n",
    "    # 500번 학습 수행\n",
    "    for i in range(500):\n",
    "        sess.run(train_step, feed_dict={x: x_train, y: y_train})\n",
    "\n",
    "        if i % 50 == 0:\n",
    "            current_loss = sess.run(loss, feed_dict={x: x_train, y: y_train})\n",
    "            print(f\"Iteration {i}, Current Loss: {current_loss}\")\n",
    "\n",
    "    # 테스트 데이터에 대한 예측 수행\n",
    "    y_pred = sess.run(linear_model, feed_dict={x: x_test})\n",
    "\n",
    "    # 차이 합 계산\n",
    "    difference_sum = np.sum(np.abs(y_pred - y_test))\n",
    "    print(f'차이 합: {difference_sum}')"
   ]
  }
 ],
 "metadata": {
  "kernelspec": {
   "display_name": "intro-DL",
   "language": "python",
   "name": "python3"
  },
  "language_info": {
   "codemirror_mode": {
    "name": "ipython",
    "version": 3
   },
   "file_extension": ".py",
   "mimetype": "text/x-python",
   "name": "python",
   "nbconvert_exporter": "python",
   "pygments_lexer": "ipython3",
   "version": "3.6.5"
  }
 },
 "nbformat": 4,
 "nbformat_minor": 2
}
