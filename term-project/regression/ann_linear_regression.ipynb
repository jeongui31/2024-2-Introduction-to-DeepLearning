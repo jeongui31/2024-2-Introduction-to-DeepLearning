{
 "cells": [
  {
   "cell_type": "markdown",
   "metadata": {},
   "source": [
    "[모델 ANN + 선형회귀]\n",
    "1. ANN 출력과 선형 회귀 출력의 가중합을 통해 최종 출력을 생성하는 모델\n",
    "- 2개의 은닉층을 사용하는 ANN 모델구조\n",
    "- 균등분포 (tf.random_uniform), sigmoid 활성화 함수 사용\n",
    "- 선형 회귀 모델 y=W*x+b\n",
    "2. 손실함수 : MSE\n",
    "3. 옵티마이저 : Adam Optimizer (learning rate=0.001)\n",
    "4. 학습 epoch=300\n",
    "- batch size=10"
   ]
  },
  {
   "cell_type": "code",
   "execution_count": 81,
   "metadata": {},
   "outputs": [],
   "source": [
    "import numpy as np\n",
    "import tensorflow as tf\n",
    "from sklearn.model_selection import train_test_split\n",
    "from sklearn.preprocessing import StandardScaler"
   ]
  },
  {
   "cell_type": "code",
   "execution_count": 82,
   "metadata": {},
   "outputs": [],
   "source": [
    "def load_csv(file_path):\n",
    "\n",
    "    # CSV 파일 로드 (첫 번째 행을 건너뜀, 앞에서부터 8개의 열만 불러옴)\n",
    "    data = np.genfromtxt(file_path, delimiter=',', skip_header=1, usecols=range(8))\n",
    "    \n",
    "    # 'HAEMOGLOBINS'를 목표 변수로 설정 (두 번째 열)\n",
    "    x_data = np.delete(data, 1, axis=1)  # 두 번째 열 제거 (입력 변수)\n",
    "    y_data = data[:, 1].reshape(-1, 1)  # 두 번째 열이 목표 변수\n",
    "    \n",
    "    return x_data, y_data\n",
    "\n",
    "def split_data(x_data, y_data):\n",
    "    x_test = x_data[:400]\n",
    "    y_test = y_data[:400]\n",
    "    x_train = x_data[400:]\n",
    "    y_train = y_data[400:]\n",
    "\n",
    "    sc = StandardScaler()\n",
    "    x_train = sc.fit_transform(x_train)\n",
    "    x_test = sc.transform(x_test)\n",
    "    \n",
    "    return x_train, x_test, y_train, y_test"
   ]
  },
  {
   "cell_type": "code",
   "execution_count": 83,
   "metadata": {},
   "outputs": [],
   "source": [
    "# 데이터 로드 및 분할\n",
    "x_data, y_data = load_csv('data-ori.csv')\n",
    "x_train, x_test, y_train, y_test = split_data(x_data, y_data)"
   ]
  },
  {
   "cell_type": "code",
   "execution_count": 84,
   "metadata": {},
   "outputs": [],
   "source": [
    "learning_rate = 0.001\n",
    "num_epochs = 300\n",
    "batch_size = 10\n",
    "input_size = x_train.shape[1]\n",
    "hidden1_size = 64\n",
    "hidden2_size = 32\n",
    "output_size = 1"
   ]
  },
  {
   "cell_type": "code",
   "execution_count": 85,
   "metadata": {},
   "outputs": [],
   "source": [
    "# 입력과 출력 플레이스홀더 정의\n",
    "x = tf.placeholder(tf.float32, shape=[None, input_size])\n",
    "y = tf.placeholder(tf.float32, shape=[None, output_size])"
   ]
  },
  {
   "cell_type": "code",
   "execution_count": 86,
   "metadata": {},
   "outputs": [],
   "source": [
    "# ANN 모델 정의\n",
    "def build_ANN(x):\n",
    "    W1 = tf.Variable(tf.random_uniform([input_size, hidden1_size]))\n",
    "    b1 = tf.Variable(tf.random_uniform([hidden1_size]))\n",
    "    H1_output = tf.nn.sigmoid(tf.matmul(x, W1) + b1)\n",
    "\n",
    "    W2 = tf.Variable(tf.random_uniform([hidden1_size, hidden2_size]))\n",
    "    b2 = tf.Variable(tf.random_uniform([hidden2_size]))\n",
    "    H2_output = tf.nn.sigmoid(tf.matmul(H1_output, W2) + b2)\n",
    "\n",
    "    W_output = tf.Variable(tf.random_uniform([hidden2_size, output_size]))\n",
    "    b_output = tf.Variable(tf.random_uniform([output_size]))\n",
    "    \n",
    "    logits = tf.matmul(H2_output, W_output) + b_output\n",
    "    return logits\n",
    "\n",
    "# 선형 모델 정의 (y = W * x + b)\n",
    "def build_linear_model(x):\n",
    "    W_linear = tf.Variable(tf.random_uniform([input_size, output_size]))\n",
    "    b_linear = tf.Variable(tf.random_uniform([output_size]))\n",
    "    linear_output = tf.matmul(x, W_linear) + b_linear  # 선형 회귀 모델\n",
    "    return linear_output"
   ]
  },
  {
   "cell_type": "code",
   "execution_count": 87,
   "metadata": {},
   "outputs": [],
   "source": [
    "# 모델 결합: ANN 출력과 선형 회귀 출력을 가중합\n",
    "def build_combined_model(x):\n",
    "    ann_output = build_ANN(x)\n",
    "    linear_output = build_linear_model(x)\n",
    "    \n",
    "    # 가중합을 통해 두 출력 결합\n",
    "    w_ann = tf.Variable(0.8, dtype=tf.float32)\n",
    "    w_linear = tf.Variable(0.2, dtype=tf.float32)\n",
    "    \n",
    "    combined_output = w_ann * ann_output + w_linear * linear_output\n",
    "    return combined_output\n",
    "\n",
    "# 결합 모델 예측값\n",
    "predicted_value = build_combined_model(x)"
   ]
  },
  {
   "cell_type": "code",
   "execution_count": 88,
   "metadata": {},
   "outputs": [],
   "source": [
    "# 손실 함수 (Mean Squared Error)\n",
    "loss = tf.reduce_mean(tf.square(predicted_value - y))"
   ]
  },
  {
   "cell_type": "code",
   "execution_count": 89,
   "metadata": {},
   "outputs": [],
   "source": [
    "# Adam 옵티마이저 선언\n",
    "optimizer = tf.train.AdamOptimizer(learning_rate=learning_rate)\n",
    "train_step = optimizer.minimize(loss)"
   ]
  },
  {
   "cell_type": "code",
   "execution_count": 90,
   "metadata": {},
   "outputs": [
    {
     "name": "stdout",
     "output_type": "stream",
     "text": [
      "Epoch 0/300, Training Loss: 1.5197032706398619\n",
      "Epoch 50/300, Training Loss: 0.0005860543587506183\n",
      "Epoch 100/300, Training Loss: 0.00041820247913943023\n",
      "Epoch 150/300, Training Loss: 0.00031187367082686406\n",
      "Epoch 200/300, Training Loss: 0.00024121473421233222\n",
      "Epoch 250/300, Training Loss: 0.00022395627618657148\n",
      "차이 합: [4.13688202]\n"
     ]
    }
   ],
   "source": [
    "with tf.Session() as sess:\n",
    "    sess.run(tf.global_variables_initializer())\n",
    "\n",
    "    # 학습 반복\n",
    "    for i in range(num_epochs):\n",
    "        total_loss = 0\n",
    "        num_batches = int(len(x_train) / batch_size)\n",
    "        \n",
    "        for j in range(num_batches):\n",
    "            batch_x = x_train[j * batch_size:(j + 1) * batch_size]\n",
    "            batch_y = y_train[j * batch_size:(j + 1) * batch_size]\n",
    "\n",
    "            # 결합 모델 학습\n",
    "            _, current_loss = sess.run([train_step, loss], feed_dict={x: batch_x, y: batch_y})\n",
    "            total_loss += current_loss\n",
    "\n",
    "        if i % 50 == 0:\n",
    "            print(f\"Epoch {i}/{num_epochs}, Training Loss: {total_loss/num_batches}\")\n",
    "\n",
    "    # 테스트 데이터로 성능 평가            \n",
    "    y_pred = sess.run(predicted_value, feed_dict={x: x_test})\n",
    "    \n",
    "    # 예측값과 실제값의 차이 합 계산\n",
    "    difference_sum = sum(abs(y_pred - y_test))\n",
    "    print(f'차이 합: {difference_sum}')"
   ]
  }
 ],
 "metadata": {
  "kernelspec": {
   "display_name": "intro-DL",
   "language": "python",
   "name": "python3"
  },
  "language_info": {
   "codemirror_mode": {
    "name": "ipython",
    "version": 3
   },
   "file_extension": ".py",
   "mimetype": "text/x-python",
   "name": "python",
   "nbconvert_exporter": "python",
   "pygments_lexer": "ipython3",
   "version": "3.6.5"
  }
 },
 "nbformat": 4,
 "nbformat_minor": 2
}
