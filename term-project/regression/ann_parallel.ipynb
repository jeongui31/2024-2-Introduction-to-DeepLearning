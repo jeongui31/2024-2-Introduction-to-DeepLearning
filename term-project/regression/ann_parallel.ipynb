{
 "cells": [
  {
   "cell_type": "markdown",
   "metadata": {},
   "source": [
    "[모델 병렬적 ANN + 선형회귀]\n",
    "1. ANN을 병렬적으로 사용해 특징을 추출한 후, 추가적인 ANN 모델에서 한번 더 학습한 후 최종적으로 선형 회귀 모델로 예측을 수행\n",
    "- 1개의 은닉층을 사용하는 ANN 2개 + 1개\n",
    "- 절단 정규 분포 (tf.truncated_normal), ReLU 활성화 함수 사용\n",
    "- 선형 회귀 모델 y=W*x+b\n",
    "2. 손실함수 : MSE\n",
    "3. 옵티마이저 : Adam Optimizer (learning rate=0.0001)\n",
    "4. 학습 epoch=400\n",
    "- batch size=32"
   ]
  },
  {
   "cell_type": "code",
   "execution_count": 45,
   "metadata": {},
   "outputs": [],
   "source": [
    "import tensorflow as tf\n",
    "import numpy as np\n",
    "from sklearn.preprocessing import StandardScaler"
   ]
  },
  {
   "cell_type": "code",
   "execution_count": 46,
   "metadata": {},
   "outputs": [],
   "source": [
    "# 데이터 로드 함수\n",
    "def load_csv(file_path):\n",
    "    data = np.genfromtxt(file_path, delimiter=',', skip_header=1, usecols=range(8))\n",
    "    x_data = np.delete(data, 1, axis=1)  # 두 번째 열 제거 (입력 변수)\n",
    "    y_data = data[:, 1].reshape(-1, 1)  # 두 번째 열이 목표 변수\n",
    "    return x_data, y_data\n",
    "\n",
    "# 데이터 분할 및 표준화\n",
    "def split_data(x_data, y_data):\n",
    "    x_test = x_data[:400]\n",
    "    y_test = y_data[:400]\n",
    "    x_train = x_data[400:]\n",
    "    y_train = y_data[400:]\n",
    "\n",
    "    sc = StandardScaler()\n",
    "    x_train = sc.fit_transform(x_train)\n",
    "    x_test = sc.transform(x_test)\n",
    "    \n",
    "    return x_train, x_test, y_train, y_test"
   ]
  },
  {
   "cell_type": "code",
   "execution_count": 47,
   "metadata": {},
   "outputs": [],
   "source": [
    "# 데이터 로드 및 분할\n",
    "x_data, y_data = load_csv('data-ori.csv')\n",
    "x_train, x_test, y_train, y_test = split_data(x_data, y_data)"
   ]
  },
  {
   "cell_type": "code",
   "execution_count": 48,
   "metadata": {},
   "outputs": [],
   "source": [
    "# 하이퍼파라미터 설정\n",
    "learning_rate = 0.0001\n",
    "epochs = 400\n",
    "batch_size = 32\n",
    "input_size = x_train.shape[1]\n",
    "hidden1_size = 64\n",
    "hidden2_size = 32\n",
    "output_size = 1"
   ]
  },
  {
   "cell_type": "code",
   "execution_count": 49,
   "metadata": {},
   "outputs": [],
   "source": [
    "# 입력 플레이스홀더 정의\n",
    "x = tf.placeholder(tf.float32, shape=[None, input_size])\n",
    "y = tf.placeholder(tf.float32, shape=[None, output_size])"
   ]
  },
  {
   "cell_type": "code",
   "execution_count": 50,
   "metadata": {},
   "outputs": [],
   "source": [
    "def feature_transform(x):\n",
    "    # 첫 번째 특성 변환 (128차원 출력)\n",
    "    W_trans1 = tf.Variable(tf.truncated_normal([input_size, hidden1_size], stddev=0.05))\n",
    "    b_trans1 = tf.Variable(tf.zeros([hidden1_size]))\n",
    "    transform1 = tf.nn.relu(tf.matmul(x, W_trans1) + b_trans1)\n",
    "\n",
    "    # 두 번째 특성 변환 (64차원 출력)\n",
    "    W_trans2 = tf.Variable(tf.truncated_normal([input_size, hidden2_size], stddev=0.05))\n",
    "    b_trans2 = tf.Variable(tf.zeros([hidden2_size]))\n",
    "    transform2 = tf.nn.relu(tf.matmul(x, W_trans2) + b_trans2)\n",
    "\n",
    "    # 첫 번째 변환의 일부(64차원)와 두 번째 변환을 더함\n",
    "    transform1_reduced = transform1[:, :hidden2_size]\n",
    "    merged_features = transform1_reduced + transform2\n",
    "\n",
    "    return merged_features"
   ]
  },
  {
   "cell_type": "code",
   "execution_count": 51,
   "metadata": {},
   "outputs": [],
   "source": [
    "def residual_block(x):\n",
    "    W_res = tf.Variable(tf.truncated_normal([x.shape[1].value, hidden1_size], stddev=0.05))\n",
    "    b_res = tf.Variable(tf.zeros([hidden1_size]))\n",
    "    transformed_x = tf.nn.relu(tf.matmul(x, W_res) + b_res)\n",
    "\n",
    "    # 연결 수행\n",
    "    res_output = tf.nn.relu(transformed_x + transformed_x)\n",
    "    return res_output"
   ]
  },
  {
   "cell_type": "code",
   "execution_count": 52,
   "metadata": {},
   "outputs": [],
   "source": [
    "transformed_features = feature_transform(x)\n",
    "\n",
    "residual_output = residual_block(transformed_features)"
   ]
  },
  {
   "cell_type": "code",
   "execution_count": 53,
   "metadata": {},
   "outputs": [],
   "source": [
    "# 최종 출력층 (회귀 예측)\n",
    "W_out = tf.Variable(tf.truncated_normal([hidden1_size, output_size], stddev=0.1))\n",
    "b_out = tf.Variable(tf.zeros([output_size]))\n",
    "y_pred = tf.matmul(residual_output, W_out) + b_out"
   ]
  },
  {
   "cell_type": "code",
   "execution_count": 54,
   "metadata": {},
   "outputs": [],
   "source": [
    "# 손실 함수 (MSE) 및 최적화 정의\n",
    "loss = tf.reduce_mean(tf.square(y - y_pred))\n",
    "optimizer = tf.train.AdamOptimizer(learning_rate=learning_rate).minimize(loss)"
   ]
  },
  {
   "cell_type": "code",
   "execution_count": 55,
   "metadata": {},
   "outputs": [
    {
     "name": "stdout",
     "output_type": "stream",
     "text": [
      "Epoch 0, Loss: 107.83441162109375\n",
      "Epoch 50, Loss: 0.02653881534934044\n",
      "Epoch 100, Loss: 0.0022442606277763844\n",
      "Epoch 150, Loss: 0.0008728340035304427\n",
      "Epoch 200, Loss: 0.0003840989666059613\n",
      "Epoch 250, Loss: 0.0002302185312146321\n",
      "Epoch 300, Loss: 0.00018801717669703066\n",
      "Epoch 350, Loss: 0.00019421064644120634\n",
      "\n",
      "차이 합: [4.88016796]\n"
     ]
    }
   ],
   "source": [
    "# 세션을 열고 학습 진행\n",
    "with tf.Session() as sess:\n",
    "    sess.run(tf.global_variables_initializer())\n",
    "\n",
    "    total_batch = int(len(x_train) / batch_size)\n",
    "\n",
    "    # 학습 과정\n",
    "    for epoch in range(epochs):\n",
    "        for i in range(total_batch):\n",
    "            batch_x = x_train[i * batch_size:(i + 1) * batch_size]\n",
    "            batch_y = y_train[i * batch_size:(i + 1) * batch_size]\n",
    "            _, loss_val = sess.run([optimizer, loss], feed_dict={x: batch_x, y: batch_y})\n",
    "        \n",
    "        if epoch % 50 == 0:\n",
    "            print(f\"Epoch {epoch}, Loss: {loss_val}\")\n",
    "\n",
    "    # 테스트 데이터로 성능 평가\n",
    "    y_pred_test = sess.run(y_pred, feed_dict={x: x_test})\n",
    "\n",
    "    # 예측값과 실제값의 차이 합 계산\n",
    "    difference_sum = sum(abs(y_pred_test - y_test))\n",
    "    print(f'\\n차이 합: {difference_sum}')"
   ]
  }
 ],
 "metadata": {
  "kernelspec": {
   "display_name": "intro-DL",
   "language": "python",
   "name": "python3"
  },
  "language_info": {
   "codemirror_mode": {
    "name": "ipython",
    "version": 3
   },
   "file_extension": ".py",
   "mimetype": "text/x-python",
   "name": "python",
   "nbconvert_exporter": "python",
   "pygments_lexer": "ipython3",
   "version": "3.6.5"
  }
 },
 "nbformat": 4,
 "nbformat_minor": 2
}
