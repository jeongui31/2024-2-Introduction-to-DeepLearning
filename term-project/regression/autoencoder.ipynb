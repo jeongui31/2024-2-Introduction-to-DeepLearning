{
 "cells": [
  {
   "cell_type": "markdown",
   "metadata": {},
   "source": [
    "[모델 Autoencoder + 선형회귀]\n",
    "1. Autoencoder를 사용해 데이터를 효율적으로 압축하고 특징을 추출한 후, 그 결과를 이용해 회귀 모델을 학습\n",
    "- 3개의 은닉층을 사용하는 Autoencoder 모델구조\n",
    "- 절단 정규 분포 (tf.truncated_normal), ReLU와 sigmoid 활성화 함수 사용\n",
    "- 선형 회귀 모델 y=W*x+b\n",
    "2. 손실함수 : MSE\n",
    "3. 옵티마이저 : Adam Optimizer (learning rate=0.0005, 0.02)\n",
    "4. 학습 epoch=300\n",
    "- batch size=64"
   ]
  },
  {
   "cell_type": "code",
   "execution_count": 16,
   "metadata": {},
   "outputs": [],
   "source": [
    "import tensorflow as tf\n",
    "import numpy as np\n",
    "from sklearn.preprocessing import StandardScaler"
   ]
  },
  {
   "cell_type": "code",
   "execution_count": 17,
   "metadata": {},
   "outputs": [],
   "source": [
    "# 데이터 로드 함수\n",
    "def load_csv(file_path):\n",
    "    data = np.genfromtxt(file_path, delimiter=',', skip_header=1, usecols=range(8))\n",
    "    x_data = np.delete(data, 1, axis=1)  # 두 번째 열 제거 (입력 변수)\n",
    "    y_data = data[:, 1].reshape(-1, 1)  # 두 번째 열이 목표 변수\n",
    "    return x_data, y_data\n",
    "\n",
    "# 데이터 분할 및 표준화\n",
    "def split_data(x_data, y_data):\n",
    "    x_test = x_data[:400]\n",
    "    y_test = y_data[:400]\n",
    "    x_train = x_data[400:]\n",
    "    y_train = y_data[400:]\n",
    "\n",
    "    sc = StandardScaler()\n",
    "    x_train = sc.fit_transform(x_train)\n",
    "    x_test = sc.transform(x_test)\n",
    "    \n",
    "    return x_train, x_test, y_train, y_test"
   ]
  },
  {
   "cell_type": "code",
   "execution_count": 18,
   "metadata": {},
   "outputs": [],
   "source": [
    "# 데이터 로드 및 분할\n",
    "x_data, y_data = load_csv('data-ori.csv')\n",
    "x_train, x_test, y_train, y_test = split_data(x_data, y_data)"
   ]
  },
  {
   "cell_type": "code",
   "execution_count": 19,
   "metadata": {},
   "outputs": [],
   "source": [
    "autoencoder_lr = 0.0005  # Autoencoder의 학습률\n",
    "regression_lr = 0.02  # Regression의 학습률\n",
    "autoencoder_epochs = 300  # Autoencoder의 epoch\n",
    "regression_epochs = 300  # Regression의 epoch\n",
    "batch_size = 64\n",
    "input_size = x_train.shape[1]\n",
    "hidden1_size = 16  \n",
    "hidden2_size = 64  \n",
    "hidden3_size = 32  \n",
    "output_size = 1"
   ]
  },
  {
   "cell_type": "code",
   "execution_count": 20,
   "metadata": {},
   "outputs": [],
   "source": [
    "# 입력을 받기 위한 플레이스홀더 정의\n",
    "x = tf.placeholder(tf.float32, shape=[None, input_size])\n",
    "y = tf.placeholder(tf.float32, shape=[None, output_size])"
   ]
  },
  {
   "cell_type": "code",
   "execution_count": 21,
   "metadata": {},
   "outputs": [],
   "source": [
    "# Autoencoder 구조 정의\n",
    "def build_autoencoder(x):\n",
    "    # 인코딩(Encoding)\n",
    "    Wh_1 = tf.Variable(tf.truncated_normal([input_size, hidden1_size], stddev=0.05))\n",
    "    bh_1 = tf.Variable(tf.zeros([hidden1_size]))\n",
    "    H1_output = tf.nn.relu(tf.matmul(x, Wh_1) + bh_1)\n",
    "    \n",
    "    Wh_2 = tf.Variable(tf.truncated_normal([hidden1_size, hidden2_size], stddev=0.05))\n",
    "    bh_2 = tf.Variable(tf.zeros([hidden2_size]))\n",
    "    H2_output = tf.nn.relu(tf.matmul(H1_output, Wh_2) + bh_2)\n",
    "    \n",
    "    Wh_3 = tf.Variable(tf.truncated_normal([hidden2_size, hidden3_size], stddev=0.05))  # 추가된 레이어\n",
    "    bh_3 = tf.Variable(tf.zeros([hidden3_size]))\n",
    "    H3_output = tf.nn.relu(tf.matmul(H2_output, Wh_3) + bh_3)\n",
    "\n",
    "    # 디코딩(Decoding)\n",
    "    Wh_4 = tf.Variable(tf.truncated_normal([hidden3_size, hidden2_size], stddev=0.05))\n",
    "    bh_4 = tf.Variable(tf.zeros([hidden2_size]))\n",
    "    H4_output = tf.nn.relu(tf.matmul(H3_output, Wh_4) + bh_4)\n",
    "    \n",
    "    Wh_5 = tf.Variable(tf.truncated_normal([hidden2_size, hidden1_size], stddev=0.05))\n",
    "    bh_5 = tf.Variable(tf.zeros([hidden1_size]))\n",
    "    H5_output = tf.nn.relu(tf.matmul(H4_output, Wh_5) + bh_5)\n",
    "\n",
    "    Wo = tf.Variable(tf.truncated_normal([hidden1_size, input_size], stddev=0.05))\n",
    "    bo = tf.Variable(tf.zeros([input_size]))\n",
    "    X_reconstructed = tf.nn.sigmoid(tf.matmul(H5_output, Wo) + bo)\n",
    "    \n",
    "    return X_reconstructed, H3_output"
   ]
  },
  {
   "cell_type": "code",
   "execution_count": 22,
   "metadata": {},
   "outputs": [],
   "source": [
    "# 회귀를 위한 출력층 정의\n",
    "def build_regression(x):\n",
    "    W_reg = tf.Variable(tf.truncated_normal([hidden3_size, output_size], stddev=0.1))\n",
    "    b_reg = tf.Variable(tf.zeros([output_size]))\n",
    "    y_pred = tf.matmul(x, W_reg) + b_reg \n",
    "    \n",
    "    return y_pred"
   ]
  },
  {
   "cell_type": "code",
   "execution_count": 23,
   "metadata": {},
   "outputs": [],
   "source": [
    "# Autoencoder 선언\n",
    "y_pred_autoencoder, extracted_features = build_autoencoder(x)\n",
    "\n",
    "# Autoencoder의 손실 함수 정의\n",
    "autoencoder_loss = tf.reduce_mean(tf.square(x - y_pred_autoencoder))\n",
    "\n",
    "# Autoencoder 옵티마이저 정의 (학습률 autoencoder_lr 사용)\n",
    "autoencoder_train_step = tf.train.AdamOptimizer(learning_rate=autoencoder_lr).minimize(autoencoder_loss)"
   ]
  },
  {
   "cell_type": "code",
   "execution_count": 24,
   "metadata": {},
   "outputs": [],
   "source": [
    "# 회귀 모델 선언\n",
    "y_pred_regression = build_regression(extracted_features)\n",
    "\n",
    "# 회귀 손실 함수 정의 (Mean Squared Error)\n",
    "regression_loss = tf.reduce_mean(tf.square(y - y_pred_regression))\n",
    "\n",
    "# Regression 옵티마이저 정의 (학습률 regression_lr 사용)\n",
    "regression_train_step = tf.train.AdamOptimizer(learning_rate=regression_lr).minimize(regression_loss)"
   ]
  },
  {
   "cell_type": "code",
   "execution_count": 25,
   "metadata": {},
   "outputs": [
    {
     "name": "stdout",
     "output_type": "stream",
     "text": [
      "Autoencoder Epoch 0, Loss: 1.4385449886322021\n",
      "Autoencoder Epoch 30, Loss: 0.9035625457763672\n",
      "Autoencoder Epoch 60, Loss: 0.8645066618919373\n",
      "Autoencoder Epoch 90, Loss: 0.8425618410110474\n",
      "Autoencoder Epoch 120, Loss: 0.8376906514167786\n",
      "Autoencoder Epoch 150, Loss: 0.8273600339889526\n",
      "Autoencoder Epoch 180, Loss: 0.8122987747192383\n",
      "Autoencoder Epoch 210, Loss: 0.7707395553588867\n",
      "Autoencoder Epoch 240, Loss: 0.74178546667099\n",
      "Autoencoder Epoch 270, Loss: 0.7256460189819336\n",
      "Step 1: Autoencoder Pre-training 완료\n",
      "Regression Epoch 0, Loss: 0.3845107853412628\n",
      "Regression Epoch 30, Loss: 0.005148601718246937\n",
      "Regression Epoch 60, Loss: 0.0022980188950896263\n",
      "Regression Epoch 90, Loss: 0.0037763267755508423\n",
      "Regression Epoch 120, Loss: 0.005386823322623968\n",
      "Regression Epoch 150, Loss: 0.002133948728442192\n",
      "Regression Epoch 180, Loss: 0.0024484931491315365\n",
      "Regression Epoch 210, Loss: 0.004260100424289703\n",
      "Regression Epoch 240, Loss: 0.0010864827781915665\n",
      "Regression Epoch 270, Loss: 0.0030475063249468803\n",
      "Step 2: Regression Fine-tuning 완료\n",
      "\n",
      "차이 합: [6.83198986]\n"
     ]
    }
   ],
   "source": [
    "# 세션을 열고 학습 진행\n",
    "with tf.Session() as sess:\n",
    "    sess.run(tf.global_variables_initializer())\n",
    "\n",
    "    total_batch = int(len(x_train) / batch_size)\n",
    "    \n",
    "    # Step 1: Autoencoder 학습 (Pre-training)\n",
    "    for epoch in range(autoencoder_epochs):\n",
    "        for i in range(total_batch):\n",
    "            batch_x = x_train[i * batch_size:(i + 1) * batch_size]\n",
    "            _, loss_val = sess.run([autoencoder_train_step, autoencoder_loss], feed_dict={x: batch_x})\n",
    "        \n",
    "        if epoch % 30 == 0:\n",
    "            print(f\"Autoencoder Epoch {epoch}, Loss: {loss_val}\")\n",
    "    \n",
    "    print(\"Step 1: Autoencoder Pre-training 완료\")\n",
    "\n",
    "    # Step 2: Regression 모델 학습 (Fine-tuning)\n",
    "    for epoch in range(regression_epochs):\n",
    "        for i in range(total_batch):\n",
    "            batch_x = x_train[i * batch_size:(i + 1) * batch_size]\n",
    "            batch_y = y_train[i * batch_size:(i + 1) * batch_size]\n",
    "            _, loss_val = sess.run([regression_train_step, regression_loss], feed_dict={x: batch_x, y: batch_y})\n",
    "        \n",
    "        if epoch % 30 == 0:\n",
    "            print(f\"Regression Epoch {epoch}, Loss: {loss_val}\")\n",
    "    \n",
    "    print(\"Step 2: Regression Fine-tuning 완료\")\n",
    "    \n",
    "    # 테스트 데이터로 성능 평가\n",
    "    y_pred = sess.run(y_pred_regression, feed_dict={x: x_test})\n",
    "    \n",
    "    # 예측값과 실제값의 차이 합 계산\n",
    "    difference_sum = sum(abs(y_pred - y_test))\n",
    "    print(f'\\n차이 합: {difference_sum}')\n"
   ]
  }
 ],
 "metadata": {
  "kernelspec": {
   "display_name": "intro-DL",
   "language": "python",
   "name": "python3"
  },
  "language_info": {
   "codemirror_mode": {
    "name": "ipython",
    "version": 3
   },
   "file_extension": ".py",
   "mimetype": "text/x-python",
   "name": "python",
   "nbconvert_exporter": "python",
   "pygments_lexer": "ipython3",
   "version": "3.6.5"
  }
 },
 "nbformat": 4,
 "nbformat_minor": 2
}
