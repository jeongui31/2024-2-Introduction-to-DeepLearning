{
 "cells": [
  {
   "cell_type": "markdown",
   "metadata": {},
   "source": [
    "[모델 ANN]\n",
    "1. 3개의 은닉층을 사용하는 ANN 모델구조\n",
    "- 정규분포 (tf.random_normal), ReLU 활성화 함수 사용\n",
    "2. 손실함수 : MSE\n",
    "3. 옵티마이저 : Adam Optimizer (learning rate=0.005)\n",
    "4. 학습 epoch=400\n",
    "- batch size=16"
   ]
  },
  {
   "cell_type": "code",
   "execution_count": 64,
   "metadata": {},
   "outputs": [],
   "source": [
    "import tensorflow as tf\n",
    "import numpy as np\n",
    "from sklearn.model_selection import train_test_split\n",
    "from sklearn.preprocessing import StandardScaler"
   ]
  },
  {
   "cell_type": "code",
   "execution_count": 65,
   "metadata": {},
   "outputs": [],
   "source": [
    "# 데이터 로드 함수\n",
    "def load_csv(file_path):\n",
    "    data = np.genfromtxt(file_path, delimiter=',', skip_header=1, usecols=range(8))\n",
    "    x_data = np.delete(data, 1, axis=1)  # 두 번째 열 제거 (입력 변수)\n",
    "    y_data = data[:, 1].reshape(-1, 1)  # 두 번째 열이 목표 변수\n",
    "    return x_data, y_data\n",
    "\n",
    "# 데이터 분할 및 표준화\n",
    "def split_data(x_data, y_data):\n",
    "    x_test = x_data[:400]\n",
    "    y_test = y_data[:400]\n",
    "    x_train = x_data[400:]\n",
    "    y_train = y_data[400:]\n",
    "\n",
    "    sc = StandardScaler()\n",
    "    x_train = sc.fit_transform(x_train)\n",
    "    x_test = sc.transform(x_test)\n",
    "    \n",
    "    return x_train, x_test, y_train, y_test\n",
    "\n",
    "# 데이터 로드 및 분할\n",
    "x_data, y_data = load_csv('data-ori.csv')\n",
    "x_train, x_test, y_train, y_test = split_data(x_data, y_data)"
   ]
  },
  {
   "cell_type": "code",
   "execution_count": 66,
   "metadata": {},
   "outputs": [],
   "source": [
    "# 하이퍼파라미터 설정\n",
    "learning_rate = 0.005\n",
    "num_epochs = 400\n",
    "batch_size = 16\n",
    "input_size = x_train.shape[1]\n",
    "hidden1_size = 64\n",
    "hidden2_size = 16\n",
    "hidden3_size = 4\n",
    "output_size = 1"
   ]
  },
  {
   "cell_type": "code",
   "execution_count": 67,
   "metadata": {},
   "outputs": [],
   "source": [
    "# 입력과 출력 플레이스홀더 정의\n",
    "x = tf.placeholder(tf.float32, shape=[None, input_size])\n",
    "y = tf.placeholder(tf.float32, shape=[None, output_size])"
   ]
  },
  {
   "cell_type": "code",
   "execution_count": 68,
   "metadata": {},
   "outputs": [],
   "source": [
    "def build_ANN(x):\n",
    "    W1 = tf.Variable(tf.random_normal([input_size, hidden1_size]))\n",
    "    b1 = tf.Variable(tf.random_normal([hidden1_size]))\n",
    "    H1_output = tf.nn.relu(tf.matmul(x, W1) + b1)\n",
    "\n",
    "    W2 = tf.Variable(tf.random_normal([hidden1_size, hidden2_size]))\n",
    "    b2 = tf.Variable(tf.random_normal([hidden2_size]))\n",
    "    H2_output = tf.nn.relu(tf.matmul(H1_output, W2) + b2)\n",
    "\n",
    "    W3 = tf.Variable(tf.random_normal([hidden2_size, hidden3_size]))\n",
    "    b3 = tf.Variable(tf.random_normal([hidden3_size]))\n",
    "    H3_output = tf.nn.relu(tf.matmul(H2_output, W3) + b3)\n",
    "\n",
    "    W_output = tf.Variable(tf.random_normal([hidden3_size, output_size]))\n",
    "    b_output = tf.Variable(tf.random_normal([output_size]))\n",
    "    \n",
    "    logits = tf.matmul(H3_output, W_output) + b_output\n",
    "    return logits\n",
    "\n",
    "# ANN 출력 값 예측\n",
    "predicted_value = build_ANN(x)"
   ]
  },
  {
   "cell_type": "code",
   "execution_count": 69,
   "metadata": {},
   "outputs": [],
   "source": [
    "# 손실 함수 (Mean Squared Error)\n",
    "loss = tf.reduce_mean(tf.square(predicted_value - y))\n",
    "\n",
    "# Adam 옵티마이저 선언\n",
    "optimizer = tf.train.AdamOptimizer(learning_rate=learning_rate)\n",
    "train_step = optimizer.minimize(loss)"
   ]
  },
  {
   "cell_type": "code",
   "execution_count": 70,
   "metadata": {},
   "outputs": [
    {
     "name": "stdout",
     "output_type": "stream",
     "text": [
      "Epoch 0/400, Training Loss: 176.97408126831056\n",
      "Epoch 50/400, Training Loss: 0.22626867439597845\n",
      "Epoch 100/400, Training Loss: 0.008084132033400238\n",
      "Epoch 150/400, Training Loss: 0.003591131520923227\n",
      "Epoch 200/400, Training Loss: 0.002413956893084105\n",
      "Epoch 250/400, Training Loss: 0.0016151720596826635\n",
      "Epoch 300/400, Training Loss: 0.0015860964944586157\n",
      "Epoch 350/400, Training Loss: 0.0019253810528898612\n",
      "\n",
      "차이 합: [5.98693113]\n"
     ]
    }
   ],
   "source": [
    "# 세션 및 학습 과정 정의\n",
    "with tf.Session() as sess:\n",
    "    sess.run(tf.global_variables_initializer())\n",
    "    \n",
    "    # 에포크 반복\n",
    "    for epoch in range(num_epochs):\n",
    "        total_loss = 0\n",
    "        num_batches = int(len(x_train) / batch_size)\n",
    "        \n",
    "        # 미니배치 학습\n",
    "        for i in range(num_batches):\n",
    "            batch_x = x_train[i * batch_size: (i + 1) * batch_size]\n",
    "            batch_y = y_train[i * batch_size: (i + 1) * batch_size]\n",
    "            \n",
    "            _, batch_loss = sess.run([train_step, loss], feed_dict={x: batch_x, y: batch_y})\n",
    "            total_loss += batch_loss\n",
    "        \n",
    "        # 검증 데이터로 성능 평가\n",
    "        if epoch % 50 == 0:\n",
    "            print(f\"Epoch {epoch}/{num_epochs}, Training Loss: {total_loss/num_batches}\")\n",
    "    \n",
    "    # 테스트 데이터로 최종 성능 평가\n",
    "    y_pred = sess.run(predicted_value, feed_dict={x: x_test})\n",
    "    \n",
    "    # 예측값과 실제값의 차이 합 계산\n",
    "    difference_sum = sum(abs(y_pred - y_test))\n",
    "    print(f'\\n차이 합: {difference_sum}')"
   ]
  }
 ],
 "metadata": {
  "kernelspec": {
   "display_name": "intro-DL",
   "language": "python",
   "name": "python3"
  },
  "language_info": {
   "codemirror_mode": {
    "name": "ipython",
    "version": 3
   },
   "file_extension": ".py",
   "mimetype": "text/x-python",
   "name": "python",
   "nbconvert_exporter": "python",
   "pygments_lexer": "ipython3",
   "version": "3.6.5"
  }
 },
 "nbformat": 4,
 "nbformat_minor": 2
}
